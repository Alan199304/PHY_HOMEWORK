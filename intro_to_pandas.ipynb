{
 "cells": [
  {
   "cell_type": "code",
   "execution_count": 2,
   "id": "ebd372f8",
   "metadata": {},
   "outputs": [],
   "source": [
    "import pandas as pd\n",
    "%matplotlib inline"
   ]
  },
  {
   "cell_type": "code",
   "execution_count": 3,
   "id": "db4bef77",
   "metadata": {},
   "outputs": [
    {
     "name": "stdout",
     "output_type": "stream",
     "text": [
      "I am using pandas Version: 1.4.2.\n",
      "It is installed at: ['C:\\\\Users\\\\xiaoz\\\\anaconda3\\\\lib\\\\site-packages\\\\pandas']\n"
     ]
    }
   ],
   "source": [
    "print(f'I am using {pd.__name__} \\\n",
    "Version: {pd.__version__}.\\n\\\n",
    "It is installed at: {pd.__path__}')"
   ]
  },
  {
   "cell_type": "code",
   "execution_count": 4,
   "id": "3b133a8b",
   "metadata": {},
   "outputs": [],
   "source": [
    "prod = pd.read_csv('../data/Production.Product.csv', sep='\\t')\n"
   ]
  },
  {
   "cell_type": "markdown",
   "id": "c28fb04f",
   "metadata": {},
   "source": [
    "Print the first 4 rows of the whole DataFrame."
   ]
  },
  {
   "cell_type": "code",
   "execution_count": 5,
   "id": "1f958586",
   "metadata": {},
   "outputs": [
    {
     "data": {
      "text/html": [
       "<div>\n",
       "<style scoped>\n",
       "    .dataframe tbody tr th:only-of-type {\n",
       "        vertical-align: middle;\n",
       "    }\n",
       "\n",
       "    .dataframe tbody tr th {\n",
       "        vertical-align: top;\n",
       "    }\n",
       "\n",
       "    .dataframe thead th {\n",
       "        text-align: right;\n",
       "    }\n",
       "</style>\n",
       "<table border=\"1\" class=\"dataframe\">\n",
       "  <thead>\n",
       "    <tr style=\"text-align: right;\">\n",
       "      <th></th>\n",
       "      <th>ProductID</th>\n",
       "      <th>Name</th>\n",
       "      <th>ProductNumber</th>\n",
       "      <th>MakeFlag</th>\n",
       "      <th>FinishedGoodsFlag</th>\n",
       "      <th>Color</th>\n",
       "      <th>SafetyStockLevel</th>\n",
       "      <th>ReorderPoint</th>\n",
       "      <th>StandardCost</th>\n",
       "      <th>ListPrice</th>\n",
       "      <th>...</th>\n",
       "      <th>ProductLine</th>\n",
       "      <th>Class</th>\n",
       "      <th>Style</th>\n",
       "      <th>ProductSubcategoryID</th>\n",
       "      <th>ProductModelID</th>\n",
       "      <th>SellStartDate</th>\n",
       "      <th>SellEndDate</th>\n",
       "      <th>DiscontinuedDate</th>\n",
       "      <th>rowguid</th>\n",
       "      <th>ModifiedDate</th>\n",
       "    </tr>\n",
       "  </thead>\n",
       "  <tbody>\n",
       "    <tr>\n",
       "      <th>0</th>\n",
       "      <td>1</td>\n",
       "      <td>Adjustable Race</td>\n",
       "      <td>AR-5381</td>\n",
       "      <td>0</td>\n",
       "      <td>0</td>\n",
       "      <td>NaN</td>\n",
       "      <td>1000</td>\n",
       "      <td>750</td>\n",
       "      <td>0.0</td>\n",
       "      <td>0.0</td>\n",
       "      <td>...</td>\n",
       "      <td>NaN</td>\n",
       "      <td>NaN</td>\n",
       "      <td>NaN</td>\n",
       "      <td>NaN</td>\n",
       "      <td>NaN</td>\n",
       "      <td>2008-04-30 00:00:00</td>\n",
       "      <td>NaN</td>\n",
       "      <td>NaN</td>\n",
       "      <td>{694215B7-08F7-4C0D-ACB1-D734BA44C0C8}</td>\n",
       "      <td>2014-02-08 10:01:36.827000000</td>\n",
       "    </tr>\n",
       "    <tr>\n",
       "      <th>1</th>\n",
       "      <td>2</td>\n",
       "      <td>Bearing Ball</td>\n",
       "      <td>BA-8327</td>\n",
       "      <td>0</td>\n",
       "      <td>0</td>\n",
       "      <td>NaN</td>\n",
       "      <td>1000</td>\n",
       "      <td>750</td>\n",
       "      <td>0.0</td>\n",
       "      <td>0.0</td>\n",
       "      <td>...</td>\n",
       "      <td>NaN</td>\n",
       "      <td>NaN</td>\n",
       "      <td>NaN</td>\n",
       "      <td>NaN</td>\n",
       "      <td>NaN</td>\n",
       "      <td>2008-04-30 00:00:00</td>\n",
       "      <td>NaN</td>\n",
       "      <td>NaN</td>\n",
       "      <td>{58AE3C20-4F3A-4749-A7D4-D568806CC537}</td>\n",
       "      <td>2014-02-08 10:01:36.827000000</td>\n",
       "    </tr>\n",
       "    <tr>\n",
       "      <th>2</th>\n",
       "      <td>3</td>\n",
       "      <td>BB Ball Bearing</td>\n",
       "      <td>BE-2349</td>\n",
       "      <td>1</td>\n",
       "      <td>0</td>\n",
       "      <td>NaN</td>\n",
       "      <td>800</td>\n",
       "      <td>600</td>\n",
       "      <td>0.0</td>\n",
       "      <td>0.0</td>\n",
       "      <td>...</td>\n",
       "      <td>NaN</td>\n",
       "      <td>NaN</td>\n",
       "      <td>NaN</td>\n",
       "      <td>NaN</td>\n",
       "      <td>NaN</td>\n",
       "      <td>2008-04-30 00:00:00</td>\n",
       "      <td>NaN</td>\n",
       "      <td>NaN</td>\n",
       "      <td>{9C21AED2-5BFA-4F18-BCB8-F11638DC2E4E}</td>\n",
       "      <td>2014-02-08 10:01:36.827000000</td>\n",
       "    </tr>\n",
       "    <tr>\n",
       "      <th>3</th>\n",
       "      <td>4</td>\n",
       "      <td>Headset Ball Bearings</td>\n",
       "      <td>BE-2908</td>\n",
       "      <td>0</td>\n",
       "      <td>0</td>\n",
       "      <td>NaN</td>\n",
       "      <td>800</td>\n",
       "      <td>600</td>\n",
       "      <td>0.0</td>\n",
       "      <td>0.0</td>\n",
       "      <td>...</td>\n",
       "      <td>NaN</td>\n",
       "      <td>NaN</td>\n",
       "      <td>NaN</td>\n",
       "      <td>NaN</td>\n",
       "      <td>NaN</td>\n",
       "      <td>2008-04-30 00:00:00</td>\n",
       "      <td>NaN</td>\n",
       "      <td>NaN</td>\n",
       "      <td>{ECFED6CB-51FF-49B5-B06C-7D8AC834DB8B}</td>\n",
       "      <td>2014-02-08 10:01:36.827000000</td>\n",
       "    </tr>\n",
       "  </tbody>\n",
       "</table>\n",
       "<p>4 rows × 25 columns</p>\n",
       "</div>"
      ],
      "text/plain": [
       "   ProductID                   Name ProductNumber  MakeFlag  \\\n",
       "0          1        Adjustable Race       AR-5381         0   \n",
       "1          2           Bearing Ball       BA-8327         0   \n",
       "2          3        BB Ball Bearing       BE-2349         1   \n",
       "3          4  Headset Ball Bearings       BE-2908         0   \n",
       "\n",
       "   FinishedGoodsFlag Color  SafetyStockLevel  ReorderPoint  StandardCost  \\\n",
       "0                  0   NaN              1000           750           0.0   \n",
       "1                  0   NaN              1000           750           0.0   \n",
       "2                  0   NaN               800           600           0.0   \n",
       "3                  0   NaN               800           600           0.0   \n",
       "\n",
       "   ListPrice  ... ProductLine Class Style  ProductSubcategoryID  \\\n",
       "0        0.0  ...         NaN   NaN   NaN                   NaN   \n",
       "1        0.0  ...         NaN   NaN   NaN                   NaN   \n",
       "2        0.0  ...         NaN   NaN   NaN                   NaN   \n",
       "3        0.0  ...         NaN   NaN   NaN                   NaN   \n",
       "\n",
       "   ProductModelID        SellStartDate SellEndDate DiscontinuedDate  \\\n",
       "0             NaN  2008-04-30 00:00:00         NaN              NaN   \n",
       "1             NaN  2008-04-30 00:00:00         NaN              NaN   \n",
       "2             NaN  2008-04-30 00:00:00         NaN              NaN   \n",
       "3             NaN  2008-04-30 00:00:00         NaN              NaN   \n",
       "\n",
       "                                  rowguid                   ModifiedDate  \n",
       "0  {694215B7-08F7-4C0D-ACB1-D734BA44C0C8}  2014-02-08 10:01:36.827000000  \n",
       "1  {58AE3C20-4F3A-4749-A7D4-D568806CC537}  2014-02-08 10:01:36.827000000  \n",
       "2  {9C21AED2-5BFA-4F18-BCB8-F11638DC2E4E}  2014-02-08 10:01:36.827000000  \n",
       "3  {ECFED6CB-51FF-49B5-B06C-7D8AC834DB8B}  2014-02-08 10:01:36.827000000  \n",
       "\n",
       "[4 rows x 25 columns]"
      ]
     },
     "execution_count": 5,
     "metadata": {},
     "output_type": "execute_result"
    }
   ],
   "source": [
    "prod.head(4)"
   ]
  },
  {
   "cell_type": "markdown",
   "id": "6e1d58dc",
   "metadata": {},
   "source": [
    "How many rows are in the dataframe? Return the answer as an int."
   ]
  },
  {
   "cell_type": "code",
   "execution_count": 6,
   "id": "3d36b5ed",
   "metadata": {},
   "outputs": [
    {
     "data": {
      "text/plain": [
       "504"
      ]
     },
     "execution_count": 6,
     "metadata": {},
     "output_type": "execute_result"
    }
   ],
   "source": [
    "prod.shape[0]"
   ]
  },
  {
   "cell_type": "markdown",
   "id": "aa396e66",
   "metadata": {},
   "source": [
    "How many columns? Retrun the answer as an int."
   ]
  },
  {
   "cell_type": "code",
   "execution_count": 11,
   "id": "f8aeac85",
   "metadata": {},
   "outputs": [
    {
     "data": {
      "text/plain": [
       "25"
      ]
     },
     "execution_count": 11,
     "metadata": {},
     "output_type": "execute_result"
    }
   ],
   "source": [
    "prod.shape[1]"
   ]
  },
  {
   "cell_type": "markdown",
   "id": "ad2bb12f",
   "metadata": {},
   "source": [
    "How many different product lines are there?"
   ]
  },
  {
   "cell_type": "code",
   "execution_count": 12,
   "id": "0160455a",
   "metadata": {},
   "outputs": [
    {
     "data": {
      "text/plain": [
       "4"
      ]
     },
     "execution_count": 12,
     "metadata": {},
     "output_type": "execute_result"
    }
   ],
   "source": [
    "prod['ProductLine'].nunique()"
   ]
  },
  {
   "cell_type": "markdown",
   "id": "755fe3fa",
   "metadata": {},
   "source": [
    "What are the values of these product lines?"
   ]
  },
  {
   "cell_type": "code",
   "execution_count": 13,
   "id": "0decf821",
   "metadata": {},
   "outputs": [
    {
     "data": {
      "text/plain": [
       "array([nan, 'R ', 'S ', 'M ', 'T '], dtype=object)"
      ]
     },
     "execution_count": 13,
     "metadata": {},
     "output_type": "execute_result"
    }
   ],
   "source": [
    "prod['ProductLine'].unique()"
   ]
  },
  {
   "cell_type": "markdown",
   "id": "1a8b6fe8",
   "metadata": {},
   "source": [
    "Do the number of values for the product lines match the number you have using .nunique()? Why or why not?"
   ]
  },
  {
   "cell_type": "code",
   "execution_count": null,
   "id": "28596cab",
   "metadata": {},
   "outputs": [],
   "source": [
    "#No, there was included 'nan' inside of it\n",
    "prod['ProductLine'].nunique(dropna=False)"
   ]
  },
  {
   "cell_type": "markdown",
   "id": "d7c049bd",
   "metadata": {},
   "source": [
    "Take the output from your previous answer (using .unique()). Select the label corresponding to the Road product line using list indexing notation. How many characters are in this string?"
   ]
  },
  {
   "cell_type": "code",
   "execution_count": null,
   "id": "c993ded8",
   "metadata": {},
   "outputs": [],
   "source": []
  },
  {
   "cell_type": "markdown",
   "id": "ce11923f",
   "metadata": {},
   "source": [
    "Do you notice anything odd about this?"
   ]
  },
  {
   "cell_type": "code",
   "execution_count": null,
   "id": "5d515a34",
   "metadata": {},
   "outputs": [],
   "source": []
  },
  {
   "cell_type": "markdown",
   "id": "6ed69b10",
   "metadata": {},
   "source": [
    "How many products are there for the Road product line? Don't forget what you just worked on above! Return your answer as an int."
   ]
  },
  {
   "cell_type": "code",
   "execution_count": 20,
   "id": "a5d5f2cb",
   "metadata": {},
   "outputs": [
    {
     "data": {
      "text/plain": [
       "ProductID                100\n",
       "Name                     100\n",
       "ProductNumber            100\n",
       "MakeFlag                 100\n",
       "FinishedGoodsFlag        100\n",
       "Color                     87\n",
       "SafetyStockLevel         100\n",
       "ReorderPoint             100\n",
       "StandardCost             100\n",
       "ListPrice                100\n",
       "Size                      78\n",
       "SizeUnitMeasureCode       76\n",
       "WeightUnitMeasureCode     85\n",
       "Weight                    85\n",
       "DaysToManufacture        100\n",
       "ProductLine              100\n",
       "Class                     93\n",
       "Style                     78\n",
       "ProductSubcategoryID     100\n",
       "ProductModelID           100\n",
       "SellStartDate            100\n",
       "SellEndDate               45\n",
       "DiscontinuedDate           0\n",
       "rowguid                  100\n",
       "ModifiedDate             100\n",
       "dtype: int64"
      ]
     },
     "execution_count": 20,
     "metadata": {},
     "output_type": "execute_result"
    }
   ],
   "source": [
    "prod[prod['ProductLine'] == 'R '].count()\n"
   ]
  },
  {
   "cell_type": "code",
   "execution_count": 21,
   "id": "65ac9fc8",
   "metadata": {},
   "outputs": [
    {
     "data": {
      "text/plain": [
       "100"
      ]
     },
     "execution_count": 21,
     "metadata": {},
     "output_type": "execute_result"
    }
   ],
   "source": [
    "prod[prod['ProductLine'] == 'R '].shape[0]"
   ]
  },
  {
   "cell_type": "markdown",
   "id": "dc265733",
   "metadata": {},
   "source": [
    "How many products are there in the Women's Mountain category? Return your answer as an int. Hint: Use the data dictionary above!"
   ]
  },
  {
   "cell_type": "code",
   "execution_count": 22,
   "id": "2868c9bb",
   "metadata": {},
   "outputs": [
    {
     "data": {
      "text/html": [
       "<div>\n",
       "<style scoped>\n",
       "    .dataframe tbody tr th:only-of-type {\n",
       "        vertical-align: middle;\n",
       "    }\n",
       "\n",
       "    .dataframe tbody tr th {\n",
       "        vertical-align: top;\n",
       "    }\n",
       "\n",
       "    .dataframe thead th {\n",
       "        text-align: right;\n",
       "    }\n",
       "</style>\n",
       "<table border=\"1\" class=\"dataframe\">\n",
       "  <thead>\n",
       "    <tr style=\"text-align: right;\">\n",
       "      <th></th>\n",
       "      <th>ProductID</th>\n",
       "      <th>Name</th>\n",
       "      <th>ProductNumber</th>\n",
       "      <th>MakeFlag</th>\n",
       "      <th>FinishedGoodsFlag</th>\n",
       "      <th>Color</th>\n",
       "      <th>SafetyStockLevel</th>\n",
       "      <th>ReorderPoint</th>\n",
       "      <th>StandardCost</th>\n",
       "      <th>ListPrice</th>\n",
       "      <th>...</th>\n",
       "      <th>ProductLine</th>\n",
       "      <th>Class</th>\n",
       "      <th>Style</th>\n",
       "      <th>ProductSubcategoryID</th>\n",
       "      <th>ProductModelID</th>\n",
       "      <th>SellStartDate</th>\n",
       "      <th>SellEndDate</th>\n",
       "      <th>DiscontinuedDate</th>\n",
       "      <th>rowguid</th>\n",
       "      <th>ModifiedDate</th>\n",
       "    </tr>\n",
       "  </thead>\n",
       "  <tbody>\n",
       "    <tr>\n",
       "      <th>371</th>\n",
       "      <td>867</td>\n",
       "      <td>Women's Mountain Shorts, S</td>\n",
       "      <td>SH-W890-S</td>\n",
       "      <td>0</td>\n",
       "      <td>1</td>\n",
       "      <td>Black</td>\n",
       "      <td>4</td>\n",
       "      <td>3</td>\n",
       "      <td>26.1763</td>\n",
       "      <td>69.99</td>\n",
       "      <td>...</td>\n",
       "      <td>M</td>\n",
       "      <td>NaN</td>\n",
       "      <td>W</td>\n",
       "      <td>22.0</td>\n",
       "      <td>37.0</td>\n",
       "      <td>2013-05-30 00:00:00</td>\n",
       "      <td>NaN</td>\n",
       "      <td>NaN</td>\n",
       "      <td>{22616FD2-B99F-4F7D-ACF6-33DFF66D42D2}</td>\n",
       "      <td>2014-02-08 10:01:36.827000000</td>\n",
       "    </tr>\n",
       "    <tr>\n",
       "      <th>372</th>\n",
       "      <td>868</td>\n",
       "      <td>Women's Mountain Shorts, M</td>\n",
       "      <td>SH-W890-M</td>\n",
       "      <td>0</td>\n",
       "      <td>1</td>\n",
       "      <td>Black</td>\n",
       "      <td>4</td>\n",
       "      <td>3</td>\n",
       "      <td>26.1763</td>\n",
       "      <td>69.99</td>\n",
       "      <td>...</td>\n",
       "      <td>M</td>\n",
       "      <td>NaN</td>\n",
       "      <td>W</td>\n",
       "      <td>22.0</td>\n",
       "      <td>37.0</td>\n",
       "      <td>2013-05-30 00:00:00</td>\n",
       "      <td>NaN</td>\n",
       "      <td>NaN</td>\n",
       "      <td>{968E3610-E583-42E8-8AB6-484A799B1774}</td>\n",
       "      <td>2014-02-08 10:01:36.827000000</td>\n",
       "    </tr>\n",
       "    <tr>\n",
       "      <th>373</th>\n",
       "      <td>869</td>\n",
       "      <td>Women's Mountain Shorts, L</td>\n",
       "      <td>SH-W890-L</td>\n",
       "      <td>0</td>\n",
       "      <td>1</td>\n",
       "      <td>Black</td>\n",
       "      <td>4</td>\n",
       "      <td>3</td>\n",
       "      <td>26.1763</td>\n",
       "      <td>69.99</td>\n",
       "      <td>...</td>\n",
       "      <td>M</td>\n",
       "      <td>NaN</td>\n",
       "      <td>W</td>\n",
       "      <td>22.0</td>\n",
       "      <td>37.0</td>\n",
       "      <td>2013-05-30 00:00:00</td>\n",
       "      <td>NaN</td>\n",
       "      <td>NaN</td>\n",
       "      <td>{1A66B244-5CA0-4153-B539-AE048D14FAEC}</td>\n",
       "      <td>2014-02-08 10:01:36.827000000</td>\n",
       "    </tr>\n",
       "    <tr>\n",
       "      <th>408</th>\n",
       "      <td>904</td>\n",
       "      <td>ML Mountain Frame-W - Silver, 40</td>\n",
       "      <td>FR-M63S-40</td>\n",
       "      <td>1</td>\n",
       "      <td>1</td>\n",
       "      <td>Silver</td>\n",
       "      <td>500</td>\n",
       "      <td>375</td>\n",
       "      <td>199.3757</td>\n",
       "      <td>364.09</td>\n",
       "      <td>...</td>\n",
       "      <td>M</td>\n",
       "      <td>M</td>\n",
       "      <td>W</td>\n",
       "      <td>12.0</td>\n",
       "      <td>15.0</td>\n",
       "      <td>2013-05-30 00:00:00</td>\n",
       "      <td>NaN</td>\n",
       "      <td>NaN</td>\n",
       "      <td>{A7DDE43E-F7D5-4075-A0C1-C866AD7AA154}</td>\n",
       "      <td>2014-02-08 10:01:36.827000000</td>\n",
       "    </tr>\n",
       "    <tr>\n",
       "      <th>409</th>\n",
       "      <td>905</td>\n",
       "      <td>ML Mountain Frame-W - Silver, 42</td>\n",
       "      <td>FR-M63S-42</td>\n",
       "      <td>1</td>\n",
       "      <td>1</td>\n",
       "      <td>Silver</td>\n",
       "      <td>500</td>\n",
       "      <td>375</td>\n",
       "      <td>199.3757</td>\n",
       "      <td>364.09</td>\n",
       "      <td>...</td>\n",
       "      <td>M</td>\n",
       "      <td>M</td>\n",
       "      <td>W</td>\n",
       "      <td>12.0</td>\n",
       "      <td>15.0</td>\n",
       "      <td>2013-05-30 00:00:00</td>\n",
       "      <td>NaN</td>\n",
       "      <td>NaN</td>\n",
       "      <td>{D4A2FCAD-1E63-4EBD-863C-5A7C48D5B8D9}</td>\n",
       "      <td>2014-02-08 10:01:36.827000000</td>\n",
       "    </tr>\n",
       "    <tr>\n",
       "      <th>410</th>\n",
       "      <td>906</td>\n",
       "      <td>ML Mountain Frame-W - Silver, 46</td>\n",
       "      <td>FR-M63S-46</td>\n",
       "      <td>1</td>\n",
       "      <td>1</td>\n",
       "      <td>Silver</td>\n",
       "      <td>500</td>\n",
       "      <td>375</td>\n",
       "      <td>199.3757</td>\n",
       "      <td>364.09</td>\n",
       "      <td>...</td>\n",
       "      <td>M</td>\n",
       "      <td>M</td>\n",
       "      <td>W</td>\n",
       "      <td>12.0</td>\n",
       "      <td>15.0</td>\n",
       "      <td>2013-05-30 00:00:00</td>\n",
       "      <td>NaN</td>\n",
       "      <td>NaN</td>\n",
       "      <td>{82025C63-7B28-412D-92C1-408E0E6AE646}</td>\n",
       "      <td>2014-02-08 10:01:36.827000000</td>\n",
       "    </tr>\n",
       "    <tr>\n",
       "      <th>446</th>\n",
       "      <td>942</td>\n",
       "      <td>ML Mountain Frame-W - Silver, 38</td>\n",
       "      <td>FR-M63S-38</td>\n",
       "      <td>1</td>\n",
       "      <td>1</td>\n",
       "      <td>Silver</td>\n",
       "      <td>500</td>\n",
       "      <td>375</td>\n",
       "      <td>199.3757</td>\n",
       "      <td>364.09</td>\n",
       "      <td>...</td>\n",
       "      <td>M</td>\n",
       "      <td>M</td>\n",
       "      <td>W</td>\n",
       "      <td>12.0</td>\n",
       "      <td>15.0</td>\n",
       "      <td>2013-05-30 00:00:00</td>\n",
       "      <td>NaN</td>\n",
       "      <td>NaN</td>\n",
       "      <td>{BA3646B0-1487-426E-AB4E-57D42E6F9233}</td>\n",
       "      <td>2014-02-08 10:01:36.827000000</td>\n",
       "    </tr>\n",
       "    <tr>\n",
       "      <th>484</th>\n",
       "      <td>980</td>\n",
       "      <td>Mountain-400-W Silver, 38</td>\n",
       "      <td>BK-M38S-38</td>\n",
       "      <td>1</td>\n",
       "      <td>1</td>\n",
       "      <td>Silver</td>\n",
       "      <td>100</td>\n",
       "      <td>75</td>\n",
       "      <td>419.7784</td>\n",
       "      <td>769.49</td>\n",
       "      <td>...</td>\n",
       "      <td>M</td>\n",
       "      <td>M</td>\n",
       "      <td>W</td>\n",
       "      <td>1.0</td>\n",
       "      <td>22.0</td>\n",
       "      <td>2013-05-30 00:00:00</td>\n",
       "      <td>NaN</td>\n",
       "      <td>NaN</td>\n",
       "      <td>{7A927632-99A4-4F24-ADCE-0062D2D113D9}</td>\n",
       "      <td>2014-02-08 10:01:36.827000000</td>\n",
       "    </tr>\n",
       "    <tr>\n",
       "      <th>485</th>\n",
       "      <td>981</td>\n",
       "      <td>Mountain-400-W Silver, 40</td>\n",
       "      <td>BK-M38S-40</td>\n",
       "      <td>1</td>\n",
       "      <td>1</td>\n",
       "      <td>Silver</td>\n",
       "      <td>100</td>\n",
       "      <td>75</td>\n",
       "      <td>419.7784</td>\n",
       "      <td>769.49</td>\n",
       "      <td>...</td>\n",
       "      <td>M</td>\n",
       "      <td>M</td>\n",
       "      <td>W</td>\n",
       "      <td>1.0</td>\n",
       "      <td>22.0</td>\n",
       "      <td>2013-05-30 00:00:00</td>\n",
       "      <td>NaN</td>\n",
       "      <td>NaN</td>\n",
       "      <td>{0A72791C-A984-4733-AE4E-2B4373CFD7CD}</td>\n",
       "      <td>2014-02-08 10:01:36.827000000</td>\n",
       "    </tr>\n",
       "    <tr>\n",
       "      <th>486</th>\n",
       "      <td>982</td>\n",
       "      <td>Mountain-400-W Silver, 42</td>\n",
       "      <td>BK-M38S-42</td>\n",
       "      <td>1</td>\n",
       "      <td>1</td>\n",
       "      <td>Silver</td>\n",
       "      <td>100</td>\n",
       "      <td>75</td>\n",
       "      <td>419.7784</td>\n",
       "      <td>769.49</td>\n",
       "      <td>...</td>\n",
       "      <td>M</td>\n",
       "      <td>M</td>\n",
       "      <td>W</td>\n",
       "      <td>1.0</td>\n",
       "      <td>22.0</td>\n",
       "      <td>2013-05-30 00:00:00</td>\n",
       "      <td>NaN</td>\n",
       "      <td>NaN</td>\n",
       "      <td>{4EA4FE06-AAEA-42D4-A9D9-69F6A9A4A042}</td>\n",
       "      <td>2014-02-08 10:01:36.827000000</td>\n",
       "    </tr>\n",
       "    <tr>\n",
       "      <th>487</th>\n",
       "      <td>983</td>\n",
       "      <td>Mountain-400-W Silver, 46</td>\n",
       "      <td>BK-M38S-46</td>\n",
       "      <td>1</td>\n",
       "      <td>1</td>\n",
       "      <td>Silver</td>\n",
       "      <td>100</td>\n",
       "      <td>75</td>\n",
       "      <td>419.7784</td>\n",
       "      <td>769.49</td>\n",
       "      <td>...</td>\n",
       "      <td>M</td>\n",
       "      <td>M</td>\n",
       "      <td>W</td>\n",
       "      <td>1.0</td>\n",
       "      <td>22.0</td>\n",
       "      <td>2013-05-30 00:00:00</td>\n",
       "      <td>NaN</td>\n",
       "      <td>NaN</td>\n",
       "      <td>{0B0C8EE4-FF2D-438E-9CAC-464783B86191}</td>\n",
       "      <td>2014-02-08 10:01:36.827000000</td>\n",
       "    </tr>\n",
       "  </tbody>\n",
       "</table>\n",
       "<p>11 rows × 25 columns</p>\n",
       "</div>"
      ],
      "text/plain": [
       "     ProductID                              Name ProductNumber  MakeFlag  \\\n",
       "371        867        Women's Mountain Shorts, S     SH-W890-S         0   \n",
       "372        868        Women's Mountain Shorts, M     SH-W890-M         0   \n",
       "373        869        Women's Mountain Shorts, L     SH-W890-L         0   \n",
       "408        904  ML Mountain Frame-W - Silver, 40    FR-M63S-40         1   \n",
       "409        905  ML Mountain Frame-W - Silver, 42    FR-M63S-42         1   \n",
       "410        906  ML Mountain Frame-W - Silver, 46    FR-M63S-46         1   \n",
       "446        942  ML Mountain Frame-W - Silver, 38    FR-M63S-38         1   \n",
       "484        980         Mountain-400-W Silver, 38    BK-M38S-38         1   \n",
       "485        981         Mountain-400-W Silver, 40    BK-M38S-40         1   \n",
       "486        982         Mountain-400-W Silver, 42    BK-M38S-42         1   \n",
       "487        983         Mountain-400-W Silver, 46    BK-M38S-46         1   \n",
       "\n",
       "     FinishedGoodsFlag   Color  SafetyStockLevel  ReorderPoint  StandardCost  \\\n",
       "371                  1   Black                 4             3       26.1763   \n",
       "372                  1   Black                 4             3       26.1763   \n",
       "373                  1   Black                 4             3       26.1763   \n",
       "408                  1  Silver               500           375      199.3757   \n",
       "409                  1  Silver               500           375      199.3757   \n",
       "410                  1  Silver               500           375      199.3757   \n",
       "446                  1  Silver               500           375      199.3757   \n",
       "484                  1  Silver               100            75      419.7784   \n",
       "485                  1  Silver               100            75      419.7784   \n",
       "486                  1  Silver               100            75      419.7784   \n",
       "487                  1  Silver               100            75      419.7784   \n",
       "\n",
       "     ListPrice  ... ProductLine Class Style  ProductSubcategoryID  \\\n",
       "371      69.99  ...          M    NaN    W                   22.0   \n",
       "372      69.99  ...          M    NaN    W                   22.0   \n",
       "373      69.99  ...          M    NaN    W                   22.0   \n",
       "408     364.09  ...          M     M     W                   12.0   \n",
       "409     364.09  ...          M     M     W                   12.0   \n",
       "410     364.09  ...          M     M     W                   12.0   \n",
       "446     364.09  ...          M     M     W                   12.0   \n",
       "484     769.49  ...          M     M     W                    1.0   \n",
       "485     769.49  ...          M     M     W                    1.0   \n",
       "486     769.49  ...          M     M     W                    1.0   \n",
       "487     769.49  ...          M     M     W                    1.0   \n",
       "\n",
       "     ProductModelID        SellStartDate SellEndDate DiscontinuedDate  \\\n",
       "371            37.0  2013-05-30 00:00:00         NaN              NaN   \n",
       "372            37.0  2013-05-30 00:00:00         NaN              NaN   \n",
       "373            37.0  2013-05-30 00:00:00         NaN              NaN   \n",
       "408            15.0  2013-05-30 00:00:00         NaN              NaN   \n",
       "409            15.0  2013-05-30 00:00:00         NaN              NaN   \n",
       "410            15.0  2013-05-30 00:00:00         NaN              NaN   \n",
       "446            15.0  2013-05-30 00:00:00         NaN              NaN   \n",
       "484            22.0  2013-05-30 00:00:00         NaN              NaN   \n",
       "485            22.0  2013-05-30 00:00:00         NaN              NaN   \n",
       "486            22.0  2013-05-30 00:00:00         NaN              NaN   \n",
       "487            22.0  2013-05-30 00:00:00         NaN              NaN   \n",
       "\n",
       "                                    rowguid                   ModifiedDate  \n",
       "371  {22616FD2-B99F-4F7D-ACF6-33DFF66D42D2}  2014-02-08 10:01:36.827000000  \n",
       "372  {968E3610-E583-42E8-8AB6-484A799B1774}  2014-02-08 10:01:36.827000000  \n",
       "373  {1A66B244-5CA0-4153-B539-AE048D14FAEC}  2014-02-08 10:01:36.827000000  \n",
       "408  {A7DDE43E-F7D5-4075-A0C1-C866AD7AA154}  2014-02-08 10:01:36.827000000  \n",
       "409  {D4A2FCAD-1E63-4EBD-863C-5A7C48D5B8D9}  2014-02-08 10:01:36.827000000  \n",
       "410  {82025C63-7B28-412D-92C1-408E0E6AE646}  2014-02-08 10:01:36.827000000  \n",
       "446  {BA3646B0-1487-426E-AB4E-57D42E6F9233}  2014-02-08 10:01:36.827000000  \n",
       "484  {7A927632-99A4-4F24-ADCE-0062D2D113D9}  2014-02-08 10:01:36.827000000  \n",
       "485  {0A72791C-A984-4733-AE4E-2B4373CFD7CD}  2014-02-08 10:01:36.827000000  \n",
       "486  {4EA4FE06-AAEA-42D4-A9D9-69F6A9A4A042}  2014-02-08 10:01:36.827000000  \n",
       "487  {0B0C8EE4-FF2D-438E-9CAC-464783B86191}  2014-02-08 10:01:36.827000000  \n",
       "\n",
       "[11 rows x 25 columns]"
      ]
     },
     "execution_count": 22,
     "metadata": {},
     "output_type": "execute_result"
    }
   ],
   "source": [
    "prod[(prod['ProductLine'] == 'M ') & (prod['Style'] == 'W ')]"
   ]
  },
  {
   "cell_type": "code",
   "execution_count": 23,
   "id": "071386ab",
   "metadata": {},
   "outputs": [
    {
     "data": {
      "text/plain": [
       "11"
      ]
     },
     "execution_count": 23,
     "metadata": {},
     "output_type": "execute_result"
    }
   ],
   "source": [
    "prod[(prod['ProductLine'] == 'M ') & (prod['Style'] == 'W ')].shape[0]"
   ]
  },
  {
   "cell_type": "code",
   "execution_count": null,
   "id": "666c8364",
   "metadata": {},
   "outputs": [],
   "source": []
  }
 ],
 "metadata": {
  "kernelspec": {
   "display_name": "Python 3 (ipykernel)",
   "language": "python",
   "name": "python3"
  },
  "language_info": {
   "codemirror_mode": {
    "name": "ipython",
    "version": 3
   },
   "file_extension": ".py",
   "mimetype": "text/x-python",
   "name": "python",
   "nbconvert_exporter": "python",
   "pygments_lexer": "ipython3",
   "version": "3.9.12"
  }
 },
 "nbformat": 4,
 "nbformat_minor": 5
}
