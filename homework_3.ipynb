{
 "cells": [
  {
   "cell_type": "markdown",
   "id": "c1f806c8",
   "metadata": {},
   "source": [
    "Class Exercise\n",
    "# 1. DECLARE A LIST WITH THE NAMES OF YOUR CLASSMATES. NAME THE LIST AS my_class\n",
    "​\n",
    "# 2. PRINT OUT THE LENGTH OF THAT LIST\n",
    "​\n",
    "# 3. PRINT THE 3RD NAME ON THE LIST\n",
    "​\n",
    "# 4. DELETE THE FIRST NAME ON THE LIST. SAVE THE  DELETED NAME AS deleted_classmate\n",
    "​\n",
    "# 5. RE-ADD THE NAME YOU DELETED (deleted_classmate) TO THE END OF THE LIST\n",
    "​"
   ]
  },
  {
   "cell_type": "code",
   "execution_count": 46,
   "id": "704e4f27",
   "metadata": {},
   "outputs": [],
   "source": [
    "my_class = [\"Ali\", \"Cherry\",\"David\",\"Jeff\",\"Wong\"]"
   ]
  },
  {
   "cell_type": "code",
   "execution_count": 47,
   "id": "62cf1f22",
   "metadata": {},
   "outputs": [
    {
     "name": "stdout",
     "output_type": "stream",
     "text": [
      "We have 5  studnet in my class\n"
     ]
    }
   ],
   "source": [
    "num_of_student = len(my_class)\n",
    "print(\"We have\",num_of_student,\" studnet in my class\")"
   ]
  },
  {
   "cell_type": "code",
   "execution_count": 48,
   "id": "21434a63",
   "metadata": {},
   "outputs": [
    {
     "name": "stdout",
     "output_type": "stream",
     "text": [
      "David\n"
     ]
    }
   ],
   "source": [
    "print(my_class[2])"
   ]
  },
  {
   "cell_type": "code",
   "execution_count": 49,
   "id": "83c74b98",
   "metadata": {},
   "outputs": [
    {
     "name": "stdout",
     "output_type": "stream",
     "text": [
      "Ali\n"
     ]
    }
   ],
   "source": [
    "deleted_classmate = my_class.pop(0)\n",
    "\n",
    "print(deleted_classmate)"
   ]
  },
  {
   "cell_type": "code",
   "execution_count": 50,
   "id": "9e59e35d",
   "metadata": {},
   "outputs": [],
   "source": [
    "my_class.append(deleted_classmate)"
   ]
  },
  {
   "cell_type": "code",
   "execution_count": 51,
   "id": "e6063d49",
   "metadata": {},
   "outputs": [
    {
     "name": "stdout",
     "output_type": "stream",
     "text": [
      "['Cherry', 'David', 'Jeff', 'Wong', 'Ali']\n"
     ]
    }
   ],
   "source": [
    "print(my_class)"
   ]
  },
  {
   "cell_type": "code",
   "execution_count": null,
   "id": "97bb86f4",
   "metadata": {},
   "outputs": [],
   "source": []
  },
  {
   "cell_type": "code",
   "execution_count": null,
   "id": "e878d413",
   "metadata": {},
   "outputs": [],
   "source": []
  }
 ],
 "metadata": {
  "kernelspec": {
   "display_name": "Python 3 (ipykernel)",
   "language": "python",
   "name": "python3"
  },
  "language_info": {
   "codemirror_mode": {
    "name": "ipython",
    "version": 3
   },
   "file_extension": ".py",
   "mimetype": "text/x-python",
   "name": "python",
   "nbconvert_exporter": "python",
   "pygments_lexer": "ipython3",
   "version": "3.9.12"
  }
 },
 "nbformat": 4,
 "nbformat_minor": 5
}
