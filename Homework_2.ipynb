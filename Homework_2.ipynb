{
 "cells": [
  {
   "cell_type": "markdown",
   "id": "63e362ca",
   "metadata": {},
   "source": [
    "# # Exercise 2\n",
    "\n",
    "\n",
    "####  Check if x and b are both True. If they are, print \"Both of these are true.\"\n",
    "####  Check if y or a is False. If one is, print \"One of these is false.\"\n",
    "####  Check if either x or y is False. If one is, print out \"One is false.\"\n",
    "####  Then, only if either x or y is False, check if x is greater than y. If it is, print out \"x is greater than y.\"\n"
   ]
  },
  {
   "cell_type": "markdown",
   "id": "a3fee31d",
   "metadata": {},
   "source": []
  },
  {
   "cell_type": "code",
   "execution_count": 4,
   "id": "63b2fccb",
   "metadata": {},
   "outputs": [],
   "source": [
    "x = 8\n",
    "y = 0\n",
    "a = \"Hello!\"\n",
    "b = \"\""
   ]
  },
  {
   "cell_type": "code",
   "execution_count": 17,
   "id": "22ee61dd",
   "metadata": {},
   "outputs": [],
   "source": [
    "if x == True and b==True:\n",
    "    print(\"Both of these are true.\")\n"
   ]
  },
  {
   "cell_type": "code",
   "execution_count": 8,
   "id": "fedbebfb",
   "metadata": {},
   "outputs": [
    {
     "name": "stdout",
     "output_type": "stream",
     "text": [
      "One of these is false\n"
     ]
    }
   ],
   "source": [
    "if y== False or a== False:\n",
    "    print(\"One of these is false\")"
   ]
  },
  {
   "cell_type": "code",
   "execution_count": 18,
   "id": "e3029293",
   "metadata": {},
   "outputs": [
    {
     "name": "stdout",
     "output_type": "stream",
     "text": [
      "One is false\n"
     ]
    }
   ],
   "source": [
    "if x==False :\n",
    "    print(\"One is false\")\n",
    "elif y==False:\n",
    "    print(\"One is false\")"
   ]
  },
  {
   "cell_type": "code",
   "execution_count": 19,
   "id": "9e98f9e8",
   "metadata": {},
   "outputs": [
    {
     "name": "stdout",
     "output_type": "stream",
     "text": [
      "One is false\n"
     ]
    }
   ],
   "source": [
    "if x==False or y==False:\n",
    "    print(\"One is false\")"
   ]
  },
  {
   "cell_type": "code",
   "execution_count": 27,
   "id": "f80362be",
   "metadata": {},
   "outputs": [
    {
     "ename": "SyntaxError",
     "evalue": "invalid syntax (784408959.py, line 2)",
     "output_type": "error",
     "traceback": [
      "\u001b[1;36m  Input \u001b[1;32mIn [27]\u001b[1;36m\u001b[0m\n\u001b[1;33m    x > y:\u001b[0m\n\u001b[1;37m          ^\u001b[0m\n\u001b[1;31mSyntaxError\u001b[0m\u001b[1;31m:\u001b[0m invalid syntax\n"
     ]
    }
   ],
   "source": [
    "if x==False or y==False:\n",
    "    x > y\n",
    "        print(\"x is greater than y\")\n",
    "    "
   ]
  },
  {
   "cell_type": "code",
   "execution_count": null,
   "id": "a1a4340f",
   "metadata": {},
   "outputs": [],
   "source": []
  },
  {
   "cell_type": "code",
   "execution_count": null,
   "id": "6019e5bf",
   "metadata": {},
   "outputs": [],
   "source": []
  }
 ],
 "metadata": {
  "kernelspec": {
   "display_name": "Python 3 (ipykernel)",
   "language": "python",
   "name": "python3"
  },
  "language_info": {
   "codemirror_mode": {
    "name": "ipython",
    "version": 3
   },
   "file_extension": ".py",
   "mimetype": "text/x-python",
   "name": "python",
   "nbconvert_exporter": "python",
   "pygments_lexer": "ipython3",
   "version": "3.9.12"
  }
 },
 "nbformat": 4,
 "nbformat_minor": 5
}
